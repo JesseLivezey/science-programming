{
 "cells": [
  {
   "cell_type": "code",
   "execution_count": 2,
   "metadata": {
    "collapsed": false
   },
   "outputs": [
    {
     "name": "stdout",
     "output_type": "stream",
     "text": [
      "Populating the interactive namespace from numpy and matplotlib\n"
     ]
    }
   ],
   "source": [
    "import numpy as np\n",
    "%pylab inline"
   ]
  },
  {
   "cell_type": "markdown",
   "metadata": {},
   "source": [
    "# Monte Carlo Simulations"
   ]
  },
  {
   "cell_type": "markdown",
   "metadata": {},
   "source": [
    "#### Jesse Livezey"
   ]
  },
  {
   "cell_type": "markdown",
   "metadata": {},
   "source": [
    "Most of the integrals you have run into in your physics course have been exactly solveable. Often times in research, there will be a system that leads you to an integral that you cannot solve exactly. Generally one of two things happens at this point:\n",
    "* You can approximate the integral by another integral that is exactly solvable\n",
    "* You can numerically solve the integral using numerical methods (Monte Carlo being one example) "
   ]
  },
  {
   "cell_type": "markdown",
   "metadata": {},
   "source": [
    "## Millions of Small Simulations"
   ]
  },
  {
   "cell_type": "markdown",
   "metadata": {},
   "source": [
    "At the heart of Monte Carlo methods is the idea that an analytical integral can be approximated by the average of many individual numerical simulations. In this case, we'll look at a research problem that I worked on as an undergrad.\n",
    "\n",
    "Imagine shooting electrons at a fairly thin sheet of metal with cylindrical holes punched in it in a square grid patter. You want to know what percentage of electrons make it through the sheet as a function of angle (and later energy). This can be represented as an integral in an abstract way:\n",
    "$$\\%_{\\theta,E} = \\int_{\\text{initial conditions}}\\text{acceptance(\\theta,x,E)dEdx$$.\n",
    "\n",
    "The lack of nice symmetry in the grid of holes makes this integral impossible to do by hand (although we'll exploit what symmetry it has.) We'll have to start lots of little particles and run them through a particle tracking code. \n",
    "\n",
    "Let's say that our grid of holes is 1 cm from center to center and each hole is .25 cm in diameter. The sheet of metal the holes are punched in is .5 cm thick."
   ]
  },
  {
   "cell_type": "code",
   "execution_count": null,
   "metadata": {
    "collapsed": false
   },
   "outputs": [],
   "source": [
    "# We'll create a \"Simulation\" class to store out variables and do the particle tracking\n",
    "# Start by filling in the __init__ and run methods, then move on to the othersgr\n",
    "class Simulation(object):\n",
    "    \"\"\"Class for creating and running particle tracking code\"\"\"\n",
    "    def __init__(self):\n",
    "        pass\n",
    "    def update_position(self):\n",
    "        pass\n",
    "    def check_positions(self):\n",
    "        pass\n",
    "    def run(self):\n",
    "        pass\n",
    "    def results(self):\n",
    "        pass"
   ]
  },
  {
   "cell_type": "code",
   "execution_count": 3,
   "metadata": {
    "collapsed": false
   },
   "outputs": [
    {
     "data": {
      "text/plain": [
       "[<matplotlib.lines.Line2D at 0x10ad06410>]"
      ]
     },
     "execution_count": 3,
     "metadata": {},
     "output_type": "execute_result"
    },
    {
     "data": {
      "image/png": "[encoded data removed]",
      "text/plain": [
       "<matplotlib.figure.Figure at 0x108f47c10>"
      ]
     },
     "metadata": {},
     "output_type": "display_data"
    }
   ],
   "source": [
    "# You'll need a loop to initialize simulations with different angles and start the simulations\n",
    "thetas = np.linspace(0., np.pi, 10)\n",
    "results = np.zeros_like(thetas)\n",
    "n_particles = 1000\n",
    "\n",
    "for theta in thetas:\n",
    "    pass\n",
    "\n",
    "plt.plot(results)"
   ]
  },
  {
   "cell_type": "markdown",
   "metadata": {},
   "source": [
    "## Adding in Fields"
   ]
  },
  {
   "cell_type": "code",
   "execution_count": null,
   "metadata": {
    "collapsed": false
   },
   "outputs": [],
   "source": []
  },
  {
   "cell_type": "markdown",
   "metadata": {},
   "source": [
    "In the project I was working on, we could change the voltage on the metal grid to screen out electrons with low energies. At the same time, some deviced were in dipole magnetic fields. When these fields are added, it becomes neccesary to also simulate the particles as a function of their initial energy, not just angle.\n",
    "\n",
    "Create a new simulation class that incorporates an electric or magnetic field (or both)! The electric field should point towards the grid so that electrons are repelled. You can set it up so that your simulation is is .5 cm tall before it hits the grid. This will allow you to convert voltages to fields. The magnetic field would also point normal to the grid surface. Try some different B field values to get a sense for what happens."
   ]
  },
  {
   "cell_type": "code",
   "execution_count": null,
   "metadata": {
    "collapsed": false
   },
   "outputs": [],
   "source": []
  }
 ],
 "metadata": {
  "kernelspec": {
   "display_name": "Python 2",
   "language": "python",
   "name": "python2"
  },
  "language_info": {
   "codemirror_mode": {
    "name": "ipython",
    "version": 2
   },
   "file_extension": ".py",
   "mimetype": "text/x-python",
   "name": "python",
   "nbconvert_exporter": "python",
   "pygments_lexer": "ipython2",
   "version": "2.7.11"
  }
 },
 "nbformat": 4,
 "nbformat_minor": 0
}
